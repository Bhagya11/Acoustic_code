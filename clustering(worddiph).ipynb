{
 "cells": [
  {
   "cell_type": "code",
   "execution_count": 1,
   "id": "b2c96eb5",
   "metadata": {},
   "outputs": [],
   "source": [
    "from sklearn.datasets import make_blobs\n",
    "from sklearn.cluster import KMeans\n",
    "from sklearn.metrics import silhouette_samples, silhouette_score\n",
    "\n",
    "import matplotlib.pyplot as plt\n",
    "import matplotlib.cm as cm\n",
    "import numpy as np\n",
    "import pandas as pd"
   ]
  },
  {
   "cell_type": "code",
   "execution_count": 2,
   "id": "734d5d44",
   "metadata": {},
   "outputs": [
    {
     "name": "stdout",
     "output_type": "stream",
     "text": [
      "11 .ipynb_checkpoints\n",
      "632 Acoustic_word_diph.csv\n",
      "72 Acoustic_word_diph_Dyanamic.csv\n"
     ]
    }
   ],
   "source": [
    "a=[11,632,72]\n",
    "import os\n",
    "os.chdir(r'C:\\Users\\chand\\OneDrive\\Desktop\\Kmeans\\worddiph')\n",
    "for i,j in zip(a,os.listdir('.')):\n",
    "    print(i,j)"
   ]
  },
  {
   "cell_type": "code",
   "execution_count": 3,
   "id": "556ed96f",
   "metadata": {},
   "outputs": [
    {
     "name": "stdout",
     "output_type": "stream",
     "text": [
      "8 Acoustic_word_diph.csv\n",
      "(7, 8)\n",
      "2 cluster\n",
      "--------------------\n",
      "Silhouette Coefficient: 0.609\n",
      "Calinski-Harabasz Index: 15.592\n",
      "Davies-Bouldin Index: 0.188\n",
      "3 cluster\n",
      "--------------------\n",
      "Silhouette Coefficient: 0.427\n",
      "Calinski-Harabasz Index: 25.114\n",
      "Davies-Bouldin Index: 0.215\n",
      "4 cluster\n",
      "--------------------\n",
      "Silhouette Coefficient: 0.171\n",
      "Calinski-Harabasz Index: 24.918\n",
      "Davies-Bouldin Index: 0.311\n",
      "5 cluster\n",
      "--------------------\n",
      "Silhouette Coefficient: 0.082\n",
      "Calinski-Harabasz Index: 24.891\n",
      "Davies-Bouldin Index: 0.330\n",
      "628 Acoustic_word_diph_Dyanamic.csv\n",
      "(7, 628)\n",
      "2 cluster\n",
      "--------------------\n",
      "Silhouette Coefficient: 0.377\n",
      "Calinski-Harabasz Index: 5.139\n",
      "Davies-Bouldin Index: 0.789\n",
      "3 cluster\n",
      "--------------------\n",
      "Silhouette Coefficient: 0.281\n",
      "Calinski-Harabasz Index: 4.493\n",
      "Davies-Bouldin Index: 1.011\n",
      "4 cluster\n",
      "--------------------\n",
      "Silhouette Coefficient: 0.283\n",
      "Calinski-Harabasz Index: 5.111\n",
      "Davies-Bouldin Index: 0.459\n",
      "5 cluster\n",
      "--------------------\n",
      "Silhouette Coefficient: 0.238\n",
      "Calinski-Harabasz Index: 5.091\n",
      "Davies-Bouldin Index: 0.349\n",
      "68 Acoustic_word_diph_steadystate.csv\n",
      "(7, 68)\n",
      "2 cluster\n",
      "--------------------\n",
      "Silhouette Coefficient: 0.359\n",
      "Calinski-Harabasz Index: 5.073\n",
      "Davies-Bouldin Index: 0.949\n",
      "3 cluster\n",
      "--------------------\n",
      "Silhouette Coefficient: 0.335\n",
      "Calinski-Harabasz Index: 5.624\n",
      "Davies-Bouldin Index: 0.649\n",
      "4 cluster\n",
      "--------------------\n",
      "Silhouette Coefficient: 0.266\n",
      "Calinski-Harabasz Index: 5.928\n",
      "Davies-Bouldin Index: 0.292\n",
      "5 cluster\n",
      "--------------------\n",
      "Silhouette Coefficient: 0.130\n",
      "Calinski-Harabasz Index: 8.226\n",
      "Davies-Bouldin Index: 0.297\n"
     ]
    }
   ],
   "source": [
    "a1=[8,628,68]\n",
    "import os\n",
    "\n",
    "os.chdir(r'C:\\Users\\chand\\OneDrive\\Desktop\\Kmeans\\Clustering_Complete/worddiph/data')\n",
    "ss=[]\n",
    "ch=[]\n",
    "db=[]\n",
    "cn=[]\n",
    "\n",
    "for i,j in zip(a1,os.listdir('.')):\n",
    "    print(i,j)\n",
    "    df = pd.read_csv(j)\n",
    "    df.columns = [\"d\"+str(i) for i in range(i)]\n",
    "    df.fillna(0,inplace = True)\n",
    "    X = np.array(df.values)\n",
    "    print(X.shape)\n",
    " \n",
    "    for pk in range(2,6):\n",
    "        print(f'{pk} cluster')\n",
    "        print(\"-\"*20)\n",
    "        import numpy as np\n",
    "        from sklearn.cluster import KMeans\n",
    "        from sklearn import metrics\n",
    "        from sklearn.metrics import silhouette_score,calinski_harabasz_score,davies_bouldin_score\n",
    "        kmeans_model = KMeans(n_clusters=pk, random_state=1).fit(X)\n",
    "        labels = kmeans_model.labels_\n",
    "        a=metrics.silhouette_score(X, labels, metric='euclidean')\n",
    "        b=metrics.calinski_harabasz_score(X, labels)\n",
    "        c=metrics.davies_bouldin_score(X, labels)\n",
    "        print(\"Silhouette Coefficient: %0.3f\" % silhouette_score(X, labels))\n",
    "        print(\"Calinski-Harabasz Index: %0.3f\" % calinski_harabasz_score(X, labels))\n",
    "        print(\"Davies-Bouldin Index: %0.3f\" % davies_bouldin_score(X, labels))\n",
    "        ss.append(silhouette_score(X, labels))\n",
    "        ch.append(calinski_harabasz_score(X, labels))\n",
    "        db.append(davies_bouldin_score(X, labels))\n",
    "        cn.append(pk)"
   ]
  },
  {
   "cell_type": "code",
   "execution_count": 5,
   "id": "94b492e7",
   "metadata": {},
   "outputs": [],
   "source": [
    "df=pd.DataFrame([cn,ss,ch,db])\n",
    "df=df.T\n",
    "df.columns=['Cluster_number','Silhouette_Coefficient','Calinski_Harabasz','Davies_Bouldin']\n",
    "df.to_csv('results_worddiph.csv')"
   ]
  },
  {
   "cell_type": "code",
   "execution_count": 6,
   "id": "eef6aed5",
   "metadata": {},
   "outputs": [
    {
     "data": {
      "text/plain": [
       "'C:\\\\Users\\\\chand\\\\OneDrive\\\\Desktop\\\\Kmeans\\\\Clustering_Complete\\\\worddiph\\\\data'"
      ]
     },
     "execution_count": 6,
     "metadata": {},
     "output_type": "execute_result"
    }
   ],
   "source": [
    "pwd\n"
   ]
  },
  {
   "cell_type": "code",
   "execution_count": 7,
   "id": "7c3d31de",
   "metadata": {},
   "outputs": [],
   "source": [
    "data=pd.read_csv(r'C:\\Users\\chand\\OneDrive\\Desktop\\Kmeans\\Clustering_Complete\\worddiph\\data\\results_worddiph.csv')"
   ]
  },
  {
   "cell_type": "code",
   "execution_count": 8,
   "id": "417b5ecc",
   "metadata": {},
   "outputs": [
    {
     "data": {
      "text/html": [
       "<div>\n",
       "<style scoped>\n",
       "    .dataframe tbody tr th:only-of-type {\n",
       "        vertical-align: middle;\n",
       "    }\n",
       "\n",
       "    .dataframe tbody tr th {\n",
       "        vertical-align: top;\n",
       "    }\n",
       "\n",
       "    .dataframe thead th {\n",
       "        text-align: right;\n",
       "    }\n",
       "</style>\n",
       "<table border=\"1\" class=\"dataframe\">\n",
       "  <thead>\n",
       "    <tr style=\"text-align: right;\">\n",
       "      <th></th>\n",
       "      <th>Unnamed: 0</th>\n",
       "      <th>Cluster_number</th>\n",
       "      <th>Silhouette_Coefficient</th>\n",
       "      <th>Calinski_Harabasz</th>\n",
       "      <th>Davies_Bouldin</th>\n",
       "    </tr>\n",
       "  </thead>\n",
       "  <tbody>\n",
       "    <tr>\n",
       "      <th>0</th>\n",
       "      <td>0</td>\n",
       "      <td>2.0</td>\n",
       "      <td>0.609399</td>\n",
       "      <td>15.592016</td>\n",
       "      <td>0.188065</td>\n",
       "    </tr>\n",
       "    <tr>\n",
       "      <th>1</th>\n",
       "      <td>1</td>\n",
       "      <td>3.0</td>\n",
       "      <td>0.426637</td>\n",
       "      <td>25.114315</td>\n",
       "      <td>0.215273</td>\n",
       "    </tr>\n",
       "    <tr>\n",
       "      <th>2</th>\n",
       "      <td>2</td>\n",
       "      <td>4.0</td>\n",
       "      <td>0.171228</td>\n",
       "      <td>24.918215</td>\n",
       "      <td>0.310896</td>\n",
       "    </tr>\n",
       "    <tr>\n",
       "      <th>3</th>\n",
       "      <td>3</td>\n",
       "      <td>5.0</td>\n",
       "      <td>0.081977</td>\n",
       "      <td>24.890529</td>\n",
       "      <td>0.329579</td>\n",
       "    </tr>\n",
       "    <tr>\n",
       "      <th>4</th>\n",
       "      <td>4</td>\n",
       "      <td>2.0</td>\n",
       "      <td>0.376792</td>\n",
       "      <td>5.139301</td>\n",
       "      <td>0.789448</td>\n",
       "    </tr>\n",
       "    <tr>\n",
       "      <th>5</th>\n",
       "      <td>5</td>\n",
       "      <td>3.0</td>\n",
       "      <td>0.280994</td>\n",
       "      <td>4.493230</td>\n",
       "      <td>1.011096</td>\n",
       "    </tr>\n",
       "    <tr>\n",
       "      <th>6</th>\n",
       "      <td>6</td>\n",
       "      <td>4.0</td>\n",
       "      <td>0.283242</td>\n",
       "      <td>5.110526</td>\n",
       "      <td>0.458959</td>\n",
       "    </tr>\n",
       "    <tr>\n",
       "      <th>7</th>\n",
       "      <td>7</td>\n",
       "      <td>5.0</td>\n",
       "      <td>0.237775</td>\n",
       "      <td>5.090952</td>\n",
       "      <td>0.349297</td>\n",
       "    </tr>\n",
       "    <tr>\n",
       "      <th>8</th>\n",
       "      <td>8</td>\n",
       "      <td>2.0</td>\n",
       "      <td>0.358854</td>\n",
       "      <td>5.072849</td>\n",
       "      <td>0.948904</td>\n",
       "    </tr>\n",
       "    <tr>\n",
       "      <th>9</th>\n",
       "      <td>9</td>\n",
       "      <td>3.0</td>\n",
       "      <td>0.334550</td>\n",
       "      <td>5.623729</td>\n",
       "      <td>0.648730</td>\n",
       "    </tr>\n",
       "    <tr>\n",
       "      <th>10</th>\n",
       "      <td>10</td>\n",
       "      <td>4.0</td>\n",
       "      <td>0.266204</td>\n",
       "      <td>5.928474</td>\n",
       "      <td>0.292409</td>\n",
       "    </tr>\n",
       "    <tr>\n",
       "      <th>11</th>\n",
       "      <td>11</td>\n",
       "      <td>5.0</td>\n",
       "      <td>0.130447</td>\n",
       "      <td>8.226253</td>\n",
       "      <td>0.297232</td>\n",
       "    </tr>\n",
       "  </tbody>\n",
       "</table>\n",
       "</div>"
      ],
      "text/plain": [
       "    Unnamed: 0  Cluster_number  Silhouette_Coefficient  Calinski_Harabasz  \\\n",
       "0            0             2.0                0.609399          15.592016   \n",
       "1            1             3.0                0.426637          25.114315   \n",
       "2            2             4.0                0.171228          24.918215   \n",
       "3            3             5.0                0.081977          24.890529   \n",
       "4            4             2.0                0.376792           5.139301   \n",
       "5            5             3.0                0.280994           4.493230   \n",
       "6            6             4.0                0.283242           5.110526   \n",
       "7            7             5.0                0.237775           5.090952   \n",
       "8            8             2.0                0.358854           5.072849   \n",
       "9            9             3.0                0.334550           5.623729   \n",
       "10          10             4.0                0.266204           5.928474   \n",
       "11          11             5.0                0.130447           8.226253   \n",
       "\n",
       "    Davies_Bouldin  \n",
       "0         0.188065  \n",
       "1         0.215273  \n",
       "2         0.310896  \n",
       "3         0.329579  \n",
       "4         0.789448  \n",
       "5         1.011096  \n",
       "6         0.458959  \n",
       "7         0.349297  \n",
       "8         0.948904  \n",
       "9         0.648730  \n",
       "10        0.292409  \n",
       "11        0.297232  "
      ]
     },
     "execution_count": 8,
     "metadata": {},
     "output_type": "execute_result"
    }
   ],
   "source": [
    "data"
   ]
  },
  {
   "cell_type": "code",
   "execution_count": 25,
   "id": "c22ba231",
   "metadata": {},
   "outputs": [
    {
     "data": {
      "text/plain": [
       "Text(0, 0.5, 'Accuracy')"
      ]
     },
     "execution_count": 25,
     "metadata": {},
     "output_type": "execute_result"
    },
    {
     "data": {
      "image/png": "[encoded data removed]",
      "text/plain": [
       "<Figure size 640x480 with 1 Axes>"
      ]
     },
     "metadata": {},
     "output_type": "display_data"
    },
    {
     "data": {
      "image/png": "[encoded data removed]",
      "text/plain": [
       "<Figure size 640x480 with 1 Axes>"
      ]
     },
     "metadata": {},
     "output_type": "display_data"
    },
    {
     "data": {
      "image/png": "[encoded data removed]",
      "text/plain": [
       "<Figure size 640x480 with 1 Axes>"
      ]
     },
     "metadata": {},
     "output_type": "display_data"
    }
   ],
   "source": [
    "import warnings\n",
    "warnings.filterwarnings(\"ignore\")\n",
    "import matplotlib.pyplot as plt\n",
    "splot=data.groupby([\"Data\",])[\"Cluster_number\",\"Silhouette_Coefficient\",\"Calinski_Harabasz\",\"Davies_Bouldin\"].plot(kind = \"bar\",width=0.9);\n",
    "plt.ylabel(\"Accuracy\")"
   ]
  },
  {
   "cell_type": "code",
   "execution_count": null,
   "id": "f8046729",
   "metadata": {},
   "outputs": [],
   "source": []
  }
 ],
 "metadata": {
  "kernelspec": {
   "display_name": "Python 3 (ipykernel)",
   "language": "python",
   "name": "python3"
  },
  "language_info": {
   "codemirror_mode": {
    "name": "ipython",
    "version": 3
   },
   "file_extension": ".py",
   "mimetype": "text/x-python",
   "name": "python",
   "nbconvert_exporter": "python",
   "pygments_lexer": "ipython3",
   "version": "3.9.13"
  }
 },
 "nbformat": 4,
 "nbformat_minor": 5
}
