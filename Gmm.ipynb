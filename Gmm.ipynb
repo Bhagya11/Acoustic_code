{
 "cells": [
  {
   "cell_type": "markdown",
   "id": "955efb88",
   "metadata": {},
   "source": [
    "# Original Data"
   ]
  },
  {
   "cell_type": "code",
   "execution_count": 8,
   "id": "acb3b361",
   "metadata": {},
   "outputs": [],
   "source": [
    "import pandas as pd\n",
    "import numpy as np"
   ]
  },
  {
   "cell_type": "code",
   "execution_count": 11,
   "id": "2eea3ae7",
   "metadata": {},
   "outputs": [],
   "source": [
    "#reading data\n",
    "data=pd.read_csv(r'C:\\Users\\chand\\OneDrive\\Desktop\\Kmeans\\Acoustic_word_vowels.csv')\n",
    "#data.drop(\"Unnamed: 0\",inplace = True,axis  = 1)\n",
    "data.columns = [\"d\"+str(i) for i in range(11)]\n",
    "data.fillna(0,inplace=True)\n"
   ]
  },
  {
   "cell_type": "code",
   "execution_count": 12,
   "id": "1884b1bf",
   "metadata": {},
   "outputs": [
    {
     "name": "stdout",
     "output_type": "stream",
     "text": [
      "Initialization 0\n",
      "Initialization converged: True\t time lapse 0.02687s\t ll 30.70857\n",
      "GaussianMixture(n_components=4, random_state=42, tol=1e-08, verbose=2)\n",
      "Silhouette Coefficient: 0.232\n",
      "Calinski-Harabasz Index: 2.970\n",
      "Davies-Bouldin Index: 0.484\n",
      "BIC: 70.157\n",
      "AIC: -53.589\n"
     ]
    },
    {
     "data": {
      "image/png": "[encoded data removed]",
      "text/plain": [
       "<Figure size 640x480 with 1 Axes>"
      ]
     },
     "metadata": {},
     "output_type": "display_data"
    }
   ],
   "source": [
    "import numpy as np\n",
    "import pandas as pd\n",
    "import matplotlib.pyplot as plt\n",
    "from sklearn.mixture import GaussianMixture\n",
    "from sklearn.preprocessing import StandardScaler\n",
    "from matplotlib.patches import Ellipse\n",
    "from sklearn.metrics import silhouette_score,calinski_harabasz_score,davies_bouldin_score,adjusted_rand_score\n",
    "\n",
    "# Load the custom dataset with 12 columns\n",
    "# data=pd.read_csv(r'/content/Acoustic_word_vowels_dtw_dynamic.csv')\n",
    "data.fillna(0,inplace=True)\n",
    "# Standardize the data\n",
    "scaler = StandardScaler()\n",
    "X = scaler.fit_transform(data.values)\n",
    "\n",
    "# Fit a Gaussian Mixture Model with 4 components\n",
    "gmm = GaussianMixture(n_components=4, random_state=42,tol=1e-8,verbose=2,verbose_interval=10)\n",
    "gmm.fit(X)\n",
    "\n",
    "# Predict the cluster labels for each data point\n",
    "labels = gmm.predict(X)\n",
    "print(gmm)\n",
    "\n",
    "a=silhouette_score(X, labels)\n",
    "b=calinski_harabasz_score(X, labels)\n",
    "c=davies_bouldin_score(X, labels)\n",
    "d=gmm.bic(X)\n",
    "e=gmm.aic(X)\n",
    "# Predict the cluster labels for each data point\n",
    "labels = gmm.predict(X)\n",
    "from sklearn.metrics import silhouette_score,calinski_harabasz_score,davies_bouldin_score,adjusted_rand_score\n",
    "print(\"Silhouette Coefficient: %0.3f\" % silhouette_score(X, labels))\n",
    "print(\"Calinski-Harabasz Index: %0.3f\" % calinski_harabasz_score(X, labels))\n",
    "print(\"Davies-Bouldin Index: %0.3f\" % davies_bouldin_score(X, labels))\n",
    "print(\"BIC: %0.3f\" % gmm.bic(X))\n",
    "print(\"AIC: %0.3f\" % gmm.aic(X))\n",
    "plt.scatter(X[:, 0], X[:, 1], c=labels, s=40, cmap='viridis');\n",
    "plt.tight_layout()\n"
   ]
  },
  {
   "cell_type": "markdown",
   "id": "5c4567a0",
   "metadata": {},
   "source": [
    "# SteadyState Data"
   ]
  },
  {
   "cell_type": "code",
   "execution_count": 14,
   "id": "51292b7b",
   "metadata": {},
   "outputs": [
    {
     "name": "stdout",
     "output_type": "stream",
     "text": [
      "Initialization 0\n",
      "Initialization converged: True\t time lapse 0.01595s\t ll 403.25179\n",
      "GaussianMixture(n_components=4, random_state=42, tol=1e-08, verbose=2)\n",
      "Silhouette Coefficient: 0.333\n",
      "Calinski-Harabasz Index: 6.586\n",
      "Davies-Bouldin Index: 0.820\n",
      "BIC: 16332.738\n",
      "AIC: 12150.461\n"
     ]
    },
    {
     "data": {
      "image/png": "[encoded data removed]",
      "text/plain": [
       "<Figure size 640x480 with 1 Axes>"
      ]
     },
     "metadata": {},
     "output_type": "display_data"
    }
   ],
   "source": [
    "import pandas as pd\n",
    "import numpy as np\n",
    "import matplotlib.pyplot as plt\n",
    "from sklearn.mixture import GaussianMixture\n",
    "from sklearn.preprocessing import StandardScaler\n",
    "from matplotlib.patches import Ellipse\n",
    "\n",
    "#reading data\n",
    "data=pd.read_csv(r'C:\\Users\\chand\\OneDrive\\Desktop\\Kmeans\\Acoustic_word_vowels_studystate.csv')\n",
    "data.drop(\"Unnamed: 0\",inplace = True,axis  = 1)\n",
    "data.columns = [\"d\"+str(i) for i in range(71)]\n",
    "data.fillna(0,inplace=True)\n",
    "import numpy as np\n",
    "import pandas as pd\n",
    "import matplotlib.pyplot as plt\n",
    "from sklearn.mixture import GaussianMixture\n",
    "from sklearn.preprocessing import StandardScaler\n",
    "from matplotlib.patches import Ellipse\n",
    "\n",
    "# Load the custom dataset with 12 columns\n",
    "# data=pd.read_csv(r'/content/Acoustic_word_vowels_dtw_dynamic.csv')\n",
    "data.fillna(0,inplace=True)\n",
    "# Standardize the data\n",
    "scaler = StandardScaler()\n",
    "X = scaler.fit_transform(data.values)\n",
    "\n",
    "# Fit a Gaussian Mixture Model with 4 components\n",
    "gmm = GaussianMixture(n_components=4, random_state=42,tol=1e-8,verbose=2,verbose_interval=10)\n",
    "gmm.fit(X)\n",
    "\n",
    "# Predict the cluster labels for each data point\n",
    "labels = gmm.predict(X)\n",
    "print(gmm)\n",
    "\n",
    "a=silhouette_score(X, labels)\n",
    "b=calinski_harabasz_score(X, labels)\n",
    "c=davies_bouldin_score(X, labels)\n",
    "d=gmm.bic(X)\n",
    "e=gmm.aic(X)\n",
    "# Predict the cluster labels for each data point\n",
    "labels = gmm.predict(X)\n",
    "from sklearn.metrics import silhouette_score,calinski_harabasz_score,davies_bouldin_score,adjusted_rand_score\n",
    "print(\"Silhouette Coefficient: %0.3f\" % silhouette_score(X, labels))\n",
    "print(\"Calinski-Harabasz Index: %0.3f\" % calinski_harabasz_score(X, labels))\n",
    "print(\"Davies-Bouldin Index: %0.3f\" % davies_bouldin_score(X, labels))\n",
    "print(\"BIC: %0.3f\" % gmm.bic(X))\n",
    "print(\"AIC: %0.3f\" % gmm.aic(X))\n",
    "plt.scatter(X[:, 0], X[:, 1], c=labels, s=40, cmap='viridis');\n",
    "plt.tight_layout()\n"
   ]
  },
  {
   "cell_type": "markdown",
   "id": "48e98430",
   "metadata": {},
   "source": [
    "# DynamicData"
   ]
  },
  {
   "cell_type": "code",
   "execution_count": 16,
   "id": "e57cac89",
   "metadata": {},
   "outputs": [
    {
     "name": "stdout",
     "output_type": "stream",
     "text": [
      "Initialization 0\n",
      "Initialization converged: True\t time lapse 0.40953s\t ll 3760.22306\n",
      "GaussianMixture(n_components=4, random_state=42, tol=1e-08, verbose=2)\n",
      "Silhouette Coefficient: 0.462\n",
      "Calinski-Harabasz Index: 8.908\n",
      "Davies-Bouldin Index: 0.970\n",
      "BIC: 1835857.477\n",
      "AIC: 1517497.093\n"
     ]
    },
    {
     "data": {
      "image/png": "[encoded data removed]",
      "text/plain": [
       "<Figure size 640x480 with 1 Axes>"
      ]
     },
     "metadata": {},
     "output_type": "display_data"
    }
   ],
   "source": [
    "import pandas as pd\n",
    "import numpy as np\n",
    "import matplotlib.pyplot as plt\n",
    "from sklearn.mixture import GaussianMixture\n",
    "from sklearn.preprocessing import StandardScaler\n",
    "from matplotlib.patches import Ellipse\n",
    "\n",
    "#reading data\n",
    "data=pd.read_csv(r'C:\\Users\\chand\\OneDrive\\Desktop\\Kmeans\\Acoustic_word_vowels_dynamic.csv')\n",
    "data.drop(\"Unnamed: 0\",inplace = True,axis  = 1)\n",
    "data.columns = [\"d\"+str(i) for i in range(631)]\n",
    "data.fillna(0,inplace=True)\n",
    "import numpy as np\n",
    "import pandas as pd\n",
    "import matplotlib.pyplot as plt\n",
    "from sklearn.mixture import GaussianMixture\n",
    "from sklearn.preprocessing import StandardScaler\n",
    "from matplotlib.patches import Ellipse\n",
    "\n",
    "# Load the custom dataset with 12 columns\n",
    "# data=pd.read_csv(r'/content/Acoustic_word_vowels_dtw_dynamic.csv')\n",
    "data.fillna(0,inplace=True)\n",
    "# Standardize the data\n",
    "scaler = StandardScaler()\n",
    "X = scaler.fit_transform(data.values)\n",
    "\n",
    "# Fit a Gaussian Mixture Model with 4 components\n",
    "gmm = GaussianMixture(n_components=4, random_state=42,tol=1e-8,verbose=2,verbose_interval=10)\n",
    "gmm.fit(X)\n",
    "\n",
    "# Predict the cluster labels for each data point\n",
    "labels = gmm.predict(X)\n",
    "print(gmm)\n",
    "\n",
    "a=silhouette_score(X, labels)\n",
    "b=calinski_harabasz_score(X, labels)\n",
    "c=davies_bouldin_score(X, labels)\n",
    "d=gmm.bic(X)\n",
    "e=gmm.aic(X)\n",
    "# Predict the cluster labels for each data point\n",
    "labels = gmm.predict(X)\n",
    "from sklearn.metrics import silhouette_score,calinski_harabasz_score,davies_bouldin_score,adjusted_rand_score\n",
    "print(\"Silhouette Coefficient: %0.3f\" % silhouette_score(X, labels))\n",
    "print(\"Calinski-Harabasz Index: %0.3f\" % calinski_harabasz_score(X, labels))\n",
    "print(\"Davies-Bouldin Index: %0.3f\" % davies_bouldin_score(X, labels))\n",
    "print(\"BIC: %0.3f\" % gmm.bic(X))\n",
    "print(\"AIC: %0.3f\" % gmm.aic(X))\n",
    "plt.scatter(X[:, 0], X[:, 1], c=labels, s=40, cmap='viridis');\n",
    "plt.tight_layout()"
   ]
  },
  {
   "cell_type": "code",
   "execution_count": null,
   "id": "3a5888c2",
   "metadata": {},
   "outputs": [],
   "source": []
  }
 ],
 "metadata": {
  "kernelspec": {
   "display_name": "Python 3 (ipykernel)",
   "language": "python",
   "name": "python3"
  },
  "language_info": {
   "codemirror_mode": {
    "name": "ipython",
    "version": 3
   },
   "file_extension": ".py",
   "mimetype": "text/x-python",
   "name": "python",
   "nbconvert_exporter": "python",
   "pygments_lexer": "ipython3",
   "version": "3.9.13"
  }
 },
 "nbformat": 4,
 "nbformat_minor": 5
}
