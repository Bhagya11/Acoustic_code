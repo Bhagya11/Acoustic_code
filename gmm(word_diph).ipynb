{
 "cells": [
  {
   "cell_type": "code",
   "execution_count": 1,
   "id": "8423fa14",
   "metadata": {},
   "outputs": [],
   "source": [
    "import pandas as pd\n",
    "import numpy as np"
   ]
  },
  {
   "cell_type": "code",
   "execution_count": 3,
   "id": "9157515a",
   "metadata": {},
   "outputs": [
    {
     "name": "stdout",
     "output_type": "stream",
     "text": [
      "8 Acoustic_word_diph.csv\n",
      "(7, 8)\n",
      "Initialization 0\n",
      "Initialization converged: True\t time lapse 0.04868s\t ll 16.53656\n",
      "GaussianMixture(n_components=2, random_state=42, tol=1e-08, verbose=2)\n",
      "Silhouette Coefficient: 0.235\n",
      "Calinski-Harabasz Index: 2.401\n",
      "Davies-Bouldin Index: 0.530\n",
      "BIC: -58.326\n",
      "AIC: -53.512\n",
      "Initialization 0\n",
      "Initialization converged: True\t time lapse 0.01562s\t ll 26.18026\n",
      "GaussianMixture(n_components=3, random_state=42, tol=1e-08, verbose=2)\n",
      "Silhouette Coefficient: 0.043\n",
      "Calinski-Harabasz Index: 1.819\n",
      "Davies-Bouldin Index: 0.659\n",
      "BIC: -105.772\n",
      "AIC: -98.524\n",
      "Initialization 0\n",
      "Initialization converged: True\t time lapse 0.01598s\t ll 34.18454\n",
      "GaussianMixture(n_components=4, random_state=42, tol=1e-08, verbose=2)\n",
      "Silhouette Coefficient: 0.086\n",
      "Calinski-Harabasz Index: 2.648\n",
      "Davies-Bouldin Index: 0.529\n",
      "BIC: -130.266\n",
      "AIC: -120.584\n",
      "Initialization 0\n",
      "Initialization converged: True\t time lapse 0.00000s\t ll 40.03364\n",
      "GaussianMixture(n_components=5, random_state=42, tol=1e-08, verbose=2)\n",
      "Silhouette Coefficient: -0.006\n",
      "Calinski-Harabasz Index: 2.067\n",
      "Davies-Bouldin Index: 0.596\n",
      "BIC: -124.587\n",
      "AIC: -112.471\n",
      "628 Acoustic_word_diph_Dyanamic.csv\n",
      "(7, 628)\n",
      "Initialization 0\n",
      "Initialization converged: True\t time lapse 0.20572s\t ll 3730.23183\n",
      "GaussianMixture(n_components=2, random_state=42, tol=1e-08, verbose=2)\n",
      "Silhouette Coefficient: 0.306\n",
      "Calinski-Harabasz Index: 3.984\n",
      "Davies-Bouldin Index: 0.979\n",
      "BIC: 718880.623\n",
      "AIC: 740314.754\n",
      "Initialization 0\n",
      "Initialization converged: True\t time lapse 0.33105s\t ll 3732.97294\n",
      "GaussianMixture(n_components=3, random_state=42, tol=1e-08, verbose=2)\n",
      "Silhouette Coefficient: 0.217\n",
      "Calinski-Harabasz Index: 2.850\n",
      "Davies-Bouldin Index: 0.462\n",
      "BIC: 1104395.155\n",
      "AIC: 1136546.379\n",
      "Initialization 0\n",
      "Initialization converged: True\t time lapse 0.39554s\t ll 3743.49971\n",
      "GaussianMixture(n_components=4, random_state=42, tol=1e-08, verbose=2)\n",
      "Silhouette Coefficient: 0.163\n",
      "Calinski-Harabasz Index: 3.406\n",
      "Davies-Bouldin Index: 0.426\n",
      "BIC: 1489800.688\n",
      "AIC: 1532669.004\n",
      "Initialization 0\n",
      "Initialization converged: True\t time lapse 0.55019s\t ll 3751.37865\n",
      "GaussianMixture(n_components=5, random_state=42, tol=1e-08, verbose=2)\n",
      "Silhouette Coefficient: 0.154\n",
      "Calinski-Harabasz Index: 5.168\n",
      "Davies-Bouldin Index: 0.330\n",
      "BIC: 1875243.290\n",
      "AIC: 1928828.699\n",
      "68 Acoustic_word_diph_steadystate.csv\n",
      "(7, 68)\n",
      "Initialization 0\n",
      "Initialization converged: True\t time lapse 0.01059s\t ll 379.74643\n",
      "GaussianMixture(n_components=2, random_state=42, tol=1e-08, verbose=2)\n",
      "Silhouette Coefficient: 0.188\n",
      "Calinski-Harabasz Index: 2.471\n",
      "Davies-Bouldin Index: 1.175\n",
      "BIC: 4080.350\n",
      "AIC: 4341.550\n",
      "Initialization 0\n",
      "Initialization converged: True\t time lapse 0.00000s\t ll 382.14296\n",
      "GaussianMixture(n_components=3, random_state=42, tol=1e-08, verbose=2)\n",
      "Silhouette Coefficient: 0.063\n",
      "Calinski-Harabasz Index: 1.637\n",
      "Davies-Bouldin Index: 0.636\n",
      "BIC: 8746.172\n",
      "AIC: 9137.999\n",
      "Initialization 0\n",
      "Initialization converged: True\t time lapse 0.01538s\t ll 391.27137\n",
      "GaussianMixture(n_components=4, random_state=42, tol=1e-08, verbose=2)\n",
      "Silhouette Coefficient: 0.009\n",
      "Calinski-Harabasz Index: 1.576\n",
      "Davies-Bouldin Index: 0.630\n",
      "BIC: 13317.747\n",
      "AIC: 13840.201\n",
      "Initialization 0\n",
      "Initialization converged: True\t time lapse 0.01569s\t ll 398.31696\n",
      "GaussianMixture(n_components=5, random_state=42, tol=1e-08, verbose=2)\n",
      "Silhouette Coefficient: 0.086\n",
      "Calinski-Harabasz Index: 2.511\n",
      "Davies-Bouldin Index: 0.436\n",
      "BIC: 17918.482\n",
      "AIC: 18571.563\n"
     ]
    },
    {
     "data": {
      "image/png": "[encoded data removed]",
      "text/plain": [
       "<Figure size 640x480 with 1 Axes>"
      ]
     },
     "metadata": {},
     "output_type": "display_data"
    }
   ],
   "source": [
    "a1=[8,628,68]\n",
    "import os\n",
    "import numpy as np\n",
    "import pandas as pd\n",
    "import matplotlib.pyplot as plt\n",
    "from sklearn.mixture import GaussianMixture\n",
    "from sklearn.preprocessing import StandardScaler\n",
    "from matplotlib.patches import Ellipse\n",
    "from sklearn.metrics import silhouette_score,calinski_harabasz_score,davies_bouldin_score,adjusted_rand_score\n",
    "os.chdir(r'C:\\Users\\chand\\OneDrive\\Desktop\\Kmeans\\Clustering_Complete/worddiph/data')\n",
    "ss=[]\n",
    "ch=[]\n",
    "db=[]\n",
    "cn=[]\n",
    "ai=[]\n",
    "bi=[]\n",
    "for i,j in zip(a1,os.listdir('.')):\n",
    "    print(i,j)\n",
    "    df = pd.read_csv(j)\n",
    "    df.columns = [\"d\"+str(i) for i in range(i)]\n",
    "    df.fillna(0,inplace = True)\n",
    "    X = np.array(df.values)\n",
    "    print(X.shape)\n",
    "    for pk in range(2,6):\n",
    "      \n",
    "        # Standardize the data\n",
    "        scaler = StandardScaler()\n",
    "        X = scaler.fit_transform(df.values)\n",
    "\n",
    "        # Fit a Gaussian Mixture Model with 4 components\n",
    "        gmm = GaussianMixture(n_components=pk, random_state=42,tol=1e-8,verbose=2,verbose_interval=10)\n",
    "        gmm.fit(X)\n",
    "\n",
    "        # Predict the cluster labels for each data point\n",
    "        labels = gmm.predict(X)\n",
    "        print(gmm)\n",
    "\n",
    "        a=silhouette_score(X, labels)\n",
    "        b=calinski_harabasz_score(X, labels)\n",
    "        c=davies_bouldin_score(X, labels)\n",
    "        d=gmm.bic(X)\n",
    "        e=gmm.aic(X)\n",
    "        # Predict the cluster labels for each data point\n",
    "        labels = gmm.predict(X)\n",
    "        from sklearn.metrics import silhouette_score,calinski_harabasz_score,davies_bouldin_score,adjusted_rand_score\n",
    "        print(\"Silhouette Coefficient: %0.3f\" % silhouette_score(X, labels))\n",
    "        print(\"Calinski-Harabasz Index: %0.3f\" % calinski_harabasz_score(X, labels))\n",
    "        print(\"Davies-Bouldin Index: %0.3f\" % davies_bouldin_score(X, labels))\n",
    "        print(\"BIC: %0.3f\" % gmm.bic(X))\n",
    "        print(\"AIC: %0.3f\" % gmm.aic(X))\n",
    "        plt.scatter(X[:, 0], X[:, 1], c=labels, s=40, cmap='viridis');\n",
    "        #plt.tight_layout()\n",
    "        ss.append(silhouette_score(X, labels))\n",
    "        ch.append(calinski_harabasz_score(X, labels))\n",
    "        db.append(davies_bouldin_score(X, labels))\n",
    "        bi.append(gmm.bic(X))\n",
    "        ai.append(gmm.aic(X))\n",
    "        cn.append(pk)"
   ]
  },
  {
   "cell_type": "code",
   "execution_count": 4,
   "id": "6e5a0fc3",
   "metadata": {},
   "outputs": [],
   "source": [
    "df=pd.DataFrame([cn,ss,ch,db,bi,ai])\n",
    "df=df.T\n",
    "df.columns=['Cluster_number','Silhouette_Coefficient','Calinski_Harabasz','Davies_Bouldin','AIC','BIC']\n",
    "df.to_csv('gmm_worddiph.csv')"
   ]
  },
  {
   "cell_type": "code",
   "execution_count": 5,
   "id": "63fbed01",
   "metadata": {},
   "outputs": [
    {
     "data": {
      "text/plain": [
       "'C:\\\\Users\\\\chand\\\\OneDrive\\\\Desktop\\\\Kmeans\\\\Clustering_Complete\\\\worddiph\\\\data'"
      ]
     },
     "execution_count": 5,
     "metadata": {},
     "output_type": "execute_result"
    }
   ],
   "source": [
    "pwd"
   ]
  },
  {
   "cell_type": "code",
   "execution_count": 6,
   "id": "971b32e2",
   "metadata": {},
   "outputs": [],
   "source": [
    "data=pd.read_csv(r'C:\\Users\\chand\\OneDrive\\Desktop\\Kmeans\\Clustering_Complete/worddiph/data\\gmm_worddiph.csv')"
   ]
  },
  {
   "cell_type": "code",
   "execution_count": 4,
   "id": "f09b430c",
   "metadata": {},
   "outputs": [
    {
     "ename": "KeyError",
     "evalue": "'Data'",
     "output_type": "error",
     "traceback": [
      "\u001b[1;31m---------------------------------------------------------------------------\u001b[0m",
      "\u001b[1;31mKeyError\u001b[0m                                  Traceback (most recent call last)",
      "\u001b[1;32m~\\AppData\\Local\\Temp\\ipykernel_44532\\1615907457.py\u001b[0m in \u001b[0;36m<module>\u001b[1;34m\u001b[0m\n\u001b[0;32m      2\u001b[0m \u001b[0mwarnings\u001b[0m\u001b[1;33m.\u001b[0m\u001b[0mfilterwarnings\u001b[0m\u001b[1;33m(\u001b[0m\u001b[1;34m\"ignore\"\u001b[0m\u001b[1;33m)\u001b[0m\u001b[1;33m\u001b[0m\u001b[1;33m\u001b[0m\u001b[0m\n\u001b[0;32m      3\u001b[0m \u001b[1;32mimport\u001b[0m \u001b[0mmatplotlib\u001b[0m\u001b[1;33m.\u001b[0m\u001b[0mpyplot\u001b[0m \u001b[1;32mas\u001b[0m \u001b[0mplt\u001b[0m\u001b[1;33m\u001b[0m\u001b[1;33m\u001b[0m\u001b[0m\n\u001b[1;32m----> 4\u001b[1;33m \u001b[0msplot\u001b[0m\u001b[1;33m=\u001b[0m\u001b[0mdata\u001b[0m\u001b[1;33m.\u001b[0m\u001b[0mgroupby\u001b[0m\u001b[1;33m(\u001b[0m\u001b[1;33m[\u001b[0m\u001b[1;34m\"Data\"\u001b[0m\u001b[1;33m,\u001b[0m\u001b[1;33m]\u001b[0m\u001b[1;33m)\u001b[0m\u001b[1;33m[\u001b[0m\u001b[1;34m\"Cluster_number\"\u001b[0m\u001b[1;33m,\u001b[0m\u001b[1;34m\"Silhouette_Coefficient\"\u001b[0m\u001b[1;33m,\u001b[0m\u001b[1;34m\"Calinski_Harabasz\"\u001b[0m\u001b[1;33m,\u001b[0m\u001b[1;34m\"Davies_Bouldin\"\u001b[0m\u001b[1;33m,\u001b[0m\u001b[1;34m\"AIC\"\u001b[0m\u001b[1;33m,\u001b[0m\u001b[1;34m\"BIC\"\u001b[0m\u001b[1;33m]\u001b[0m\u001b[1;33m.\u001b[0m\u001b[0mplot\u001b[0m\u001b[1;33m(\u001b[0m\u001b[0mkind\u001b[0m \u001b[1;33m=\u001b[0m \u001b[1;34m\"bar\"\u001b[0m\u001b[1;33m,\u001b[0m\u001b[0mwidth\u001b[0m\u001b[1;33m=\u001b[0m\u001b[1;36m0.9\u001b[0m\u001b[1;33m)\u001b[0m\u001b[1;33m;\u001b[0m\u001b[1;33m\u001b[0m\u001b[1;33m\u001b[0m\u001b[0m\n\u001b[0m\u001b[0;32m      5\u001b[0m \u001b[0mplt\u001b[0m\u001b[1;33m.\u001b[0m\u001b[0mylabel\u001b[0m\u001b[1;33m(\u001b[0m\u001b[1;34m\"Accuracy\"\u001b[0m\u001b[1;33m)\u001b[0m\u001b[1;33m\u001b[0m\u001b[1;33m\u001b[0m\u001b[0m\n",
      "\u001b[1;32m~\\anaconda3\\lib\\site-packages\\pandas\\core\\frame.py\u001b[0m in \u001b[0;36mgroupby\u001b[1;34m(self, by, axis, level, as_index, sort, group_keys, squeeze, observed, dropna)\u001b[0m\n\u001b[0;32m   7719\u001b[0m         \u001b[1;31m# error: Argument \"squeeze\" to \"DataFrameGroupBy\" has incompatible type\u001b[0m\u001b[1;33m\u001b[0m\u001b[1;33m\u001b[0m\u001b[0m\n\u001b[0;32m   7720\u001b[0m         \u001b[1;31m# \"Union[bool, NoDefault]\"; expected \"bool\"\u001b[0m\u001b[1;33m\u001b[0m\u001b[1;33m\u001b[0m\u001b[0m\n\u001b[1;32m-> 7721\u001b[1;33m         return DataFrameGroupBy(\n\u001b[0m\u001b[0;32m   7722\u001b[0m             \u001b[0mobj\u001b[0m\u001b[1;33m=\u001b[0m\u001b[0mself\u001b[0m\u001b[1;33m,\u001b[0m\u001b[1;33m\u001b[0m\u001b[1;33m\u001b[0m\u001b[0m\n\u001b[0;32m   7723\u001b[0m             \u001b[0mkeys\u001b[0m\u001b[1;33m=\u001b[0m\u001b[0mby\u001b[0m\u001b[1;33m,\u001b[0m\u001b[1;33m\u001b[0m\u001b[1;33m\u001b[0m\u001b[0m\n",
      "\u001b[1;32m~\\anaconda3\\lib\\site-packages\\pandas\\core\\groupby\\groupby.py\u001b[0m in \u001b[0;36m__init__\u001b[1;34m(self, obj, keys, axis, level, grouper, exclusions, selection, as_index, sort, group_keys, squeeze, observed, mutated, dropna)\u001b[0m\n\u001b[0;32m    880\u001b[0m             \u001b[1;32mfrom\u001b[0m \u001b[0mpandas\u001b[0m\u001b[1;33m.\u001b[0m\u001b[0mcore\u001b[0m\u001b[1;33m.\u001b[0m\u001b[0mgroupby\u001b[0m\u001b[1;33m.\u001b[0m\u001b[0mgrouper\u001b[0m \u001b[1;32mimport\u001b[0m \u001b[0mget_grouper\u001b[0m\u001b[1;33m\u001b[0m\u001b[1;33m\u001b[0m\u001b[0m\n\u001b[0;32m    881\u001b[0m \u001b[1;33m\u001b[0m\u001b[0m\n\u001b[1;32m--> 882\u001b[1;33m             grouper, exclusions, obj = get_grouper(\n\u001b[0m\u001b[0;32m    883\u001b[0m                 \u001b[0mobj\u001b[0m\u001b[1;33m,\u001b[0m\u001b[1;33m\u001b[0m\u001b[1;33m\u001b[0m\u001b[0m\n\u001b[0;32m    884\u001b[0m                 \u001b[0mkeys\u001b[0m\u001b[1;33m,\u001b[0m\u001b[1;33m\u001b[0m\u001b[1;33m\u001b[0m\u001b[0m\n",
      "\u001b[1;32m~\\anaconda3\\lib\\site-packages\\pandas\\core\\groupby\\grouper.py\u001b[0m in \u001b[0;36mget_grouper\u001b[1;34m(obj, key, axis, level, sort, observed, mutated, validate, dropna)\u001b[0m\n\u001b[0;32m    880\u001b[0m                 \u001b[0min_axis\u001b[0m\u001b[1;33m,\u001b[0m \u001b[0mlevel\u001b[0m\u001b[1;33m,\u001b[0m \u001b[0mgpr\u001b[0m \u001b[1;33m=\u001b[0m \u001b[1;32mFalse\u001b[0m\u001b[1;33m,\u001b[0m \u001b[0mgpr\u001b[0m\u001b[1;33m,\u001b[0m \u001b[1;32mNone\u001b[0m\u001b[1;33m\u001b[0m\u001b[1;33m\u001b[0m\u001b[0m\n\u001b[0;32m    881\u001b[0m             \u001b[1;32melse\u001b[0m\u001b[1;33m:\u001b[0m\u001b[1;33m\u001b[0m\u001b[1;33m\u001b[0m\u001b[0m\n\u001b[1;32m--> 882\u001b[1;33m                 \u001b[1;32mraise\u001b[0m \u001b[0mKeyError\u001b[0m\u001b[1;33m(\u001b[0m\u001b[0mgpr\u001b[0m\u001b[1;33m)\u001b[0m\u001b[1;33m\u001b[0m\u001b[1;33m\u001b[0m\u001b[0m\n\u001b[0m\u001b[0;32m    883\u001b[0m         \u001b[1;32melif\u001b[0m \u001b[0misinstance\u001b[0m\u001b[1;33m(\u001b[0m\u001b[0mgpr\u001b[0m\u001b[1;33m,\u001b[0m \u001b[0mGrouper\u001b[0m\u001b[1;33m)\u001b[0m \u001b[1;32mand\u001b[0m \u001b[0mgpr\u001b[0m\u001b[1;33m.\u001b[0m\u001b[0mkey\u001b[0m \u001b[1;32mis\u001b[0m \u001b[1;32mnot\u001b[0m \u001b[1;32mNone\u001b[0m\u001b[1;33m:\u001b[0m\u001b[1;33m\u001b[0m\u001b[1;33m\u001b[0m\u001b[0m\n\u001b[0;32m    884\u001b[0m             \u001b[1;31m# Add key to exclusions\u001b[0m\u001b[1;33m\u001b[0m\u001b[1;33m\u001b[0m\u001b[0m\n",
      "\u001b[1;31mKeyError\u001b[0m: 'Data'"
     ]
    }
   ],
   "source": [
    "import warnings\n",
    "warnings.filterwarnings(\"ignore\")\n",
    "import matplotlib.pyplot as plt\n",
    "splot=data.groupby([\"Data\",])[\"Cluster_number\",\"Silhouette_Coefficient\",\"Calinski_Harabasz\",\"Davies_Bouldin\",\"AIC\",\"BIC\"].plot(kind = \"bar\",width=0.9);\n",
    "plt.ylabel(\"Accuracy\")"
   ]
  },
  {
   "cell_type": "code",
   "execution_count": null,
   "id": "9b891819",
   "metadata": {},
   "outputs": [],
   "source": []
  }
 ],
 "metadata": {
  "kernelspec": {
   "display_name": "Python 3 (ipykernel)",
   "language": "python",
   "name": "python3"
  },
  "language_info": {
   "codemirror_mode": {
    "name": "ipython",
    "version": 3
   },
   "file_extension": ".py",
   "mimetype": "text/x-python",
   "name": "python",
   "nbconvert_exporter": "python",
   "pygments_lexer": "ipython3",
   "version": "3.9.13"
  }
 },
 "nbformat": 4,
 "nbformat_minor": 5
}
